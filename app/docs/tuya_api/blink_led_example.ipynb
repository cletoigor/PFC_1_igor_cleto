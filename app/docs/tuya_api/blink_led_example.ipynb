{
 "cells": [
  {
   "cell_type": "code",
   "execution_count": 2,
   "metadata": {},
   "outputs": [],
   "source": [
    "ACCESS_ID = ''\n",
    "\n",
    "ACCESS_SECRET = ''\n",
    "\n",
    "API_ENDPOINT = \"https://openapi.tuyaus.com\""
   ]
  },
  {
   "cell_type": "code",
   "execution_count": 3,
   "metadata": {},
   "outputs": [
    {
     "data": {
      "text/plain": [
       "{'result': {'access_token': 'fe410033a9f29650b2581f3ca251e2f6',\n",
       "  'expire_time': 7200,\n",
       "  'refresh_token': 'dee46d526b7da4dfa27336119bbcc4a0',\n",
       "  'uid': 'bay17375140673509orB'},\n",
       " 'success': True,\n",
       " 't': 1738534439043,\n",
       " 'tid': '002c0169e1b311efb364423a6d1d6b63'}"
      ]
     },
     "execution_count": 3,
     "metadata": {},
     "output_type": "execute_result"
    }
   ],
   "source": [
    "from tuya_connector import TuyaOpenAPI\n",
    "\n",
    "openapi = TuyaOpenAPI(API_ENDPOINT,ACCESS_ID, ACCESS_SECRET)\n",
    "openapi.connect()"
   ]
  },
  {
   "cell_type": "code",
   "execution_count": 4,
   "metadata": {},
   "outputs": [],
   "source": [
    "LED_DEVICE_ID = 'ebb50554f386a6d20fvbwv'\n",
    "LAMPADA_ID = 'eb7d274c03a716cc8cyrrk'\n",
    "LAMPADA_VIRTUAL = 'vdevo173827540343827'\n",
    "\n",
    "\n",
    "turn_on_led = {\"commands\":[{\"code\":\"switch_1\",\"value\":True}]}\n",
    "turn_off_led = {\"commands\":[{\"code\":\"switch_1\",\"value\":False}]}\n",
    "\n",
    "turn_on_lampada = {\"commands\":[{\"code\":\"switch_led\",\"value\":True}]}\n",
    "turn_off_lampada = {\"commands\":[{\"code\":\"switch_led\",\"value\":False}]}"
   ]
  },
  {
   "cell_type": "code",
   "execution_count": 9,
   "metadata": {},
   "outputs": [
    {
     "data": {
      "text/plain": [
       "{'result': True,\n",
       " 'success': True,\n",
       " 't': 1738534509260,\n",
       " 'tid': '2a0520fae1b311efb364423a6d1d6b63'}"
      ]
     },
     "execution_count": 9,
     "metadata": {},
     "output_type": "execute_result"
    }
   ],
   "source": [
    "openapi.post(f'/v1.0/iot-03/devices/{LED_DEVICE_ID}/commands', turn_on_led)\n"
   ]
  },
  {
   "cell_type": "code",
   "execution_count": 8,
   "metadata": {},
   "outputs": [
    {
     "data": {
      "text/plain": [
       "{'result': True,\n",
       " 'success': True,\n",
       " 't': 1738534502674,\n",
       " 'tid': '2615e25ce1b311ef95aeaae47fcf1080'}"
      ]
     },
     "execution_count": 8,
     "metadata": {},
     "output_type": "execute_result"
    }
   ],
   "source": [
    "openapi.post(f'/v1.0/iot-03/devices/{LED_DEVICE_ID}/commands', turn_off_led)"
   ]
  }
 ],
 "metadata": {
  "kernelspec": {
   "display_name": "Python 3",
   "language": "python",
   "name": "python3"
  },
  "language_info": {
   "codemirror_mode": {
    "name": "ipython",
    "version": 3
   },
   "file_extension": ".py",
   "mimetype": "text/x-python",
   "name": "python",
   "nbconvert_exporter": "python",
   "pygments_lexer": "ipython3",
   "version": "3.11.11"
  }
 },
 "nbformat": 4,
 "nbformat_minor": 2
}
